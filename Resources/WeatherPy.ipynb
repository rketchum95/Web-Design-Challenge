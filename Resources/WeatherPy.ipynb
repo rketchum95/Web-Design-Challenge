{
 "cells": [
  {
   "cell_type": "markdown",
   "metadata": {},
   "source": [
    "# WeatherPy\n",
    "----\n",
    "\n",
    "#### Analysis\n",
    "* Tempertures rise the as you get closer to the equator.  \n",
    "* The northern hemisphere has a wider spread of temperatures vs the southern hemisphere.  This potentially could be a result of spring weather. \n",
    "* Humidity, cloudiness, and wind speed are not affected by latitude overall or for either the northern or southern hemisphere."
   ]
  },
  {
   "cell_type": "code",
   "execution_count": 1,
   "metadata": {
    "scrolled": true
   },
   "outputs": [],
   "source": [
    "# Dependencies and Setup\n",
    "import matplotlib.pyplot as plt\n",
    "import pandas as pd\n",
    "import numpy as np\n",
    "import requests\n",
    "import time\n",
    "from datetime import datetime,timedelta\n",
    "from scipy.stats import linregress\n",
    "\n",
    "# Import API key\n",
    "from config import weather_api_key\n",
    "\n",
    "# Incorporated citipy to determine city based on latitude and longitude\n",
    "from citipy import citipy\n",
    "\n",
    "# Output File (CSV)\n",
    "output_data_file = \"output_data/cities.csv\"\n",
    "\n",
    "# Range of latitudes and longitudes\n",
    "lat_range = (-90, 90)\n",
    "lng_range = (-180, 180)"
   ]
  },
  {
   "cell_type": "markdown",
   "metadata": {},
   "source": [
    "## Generate Cities List"
   ]
  },
  {
   "cell_type": "code",
   "execution_count": 2,
   "metadata": {},
   "outputs": [
    {
     "data": {
      "text/plain": [
       "608"
      ]
     },
     "execution_count": 2,
     "metadata": {},
     "output_type": "execute_result"
    }
   ],
   "source": [
    "# List for holding lat_lngs and cities\n",
    "lat_lngs = []\n",
    "cities = []\n",
    "\n",
    "# Create a set of random lat and lng combinations\n",
    "lats = np.random.uniform(lat_range[0], lat_range[1], size=1500)\n",
    "lngs = np.random.uniform(lng_range[0], lng_range[1], size=1500)\n",
    "lat_lngs = zip(lats, lngs)\n",
    "\n",
    "# Identify nearest city for each lat, lng combination\n",
    "for lat_lng in lat_lngs:\n",
    "    city = citipy.nearest_city(lat_lng[0], lat_lng[1]).city_name\n",
    "    \n",
    "    # If the city is unique, then add it to a our cities list\n",
    "    if city not in cities:\n",
    "        cities.append(city)\n",
    "\n",
    "# Print the city count to confirm sufficient count\n",
    "len(cities)"
   ]
  },
  {
   "cell_type": "markdown",
   "metadata": {},
   "source": [
    "### Perform API Calls\n",
    "* Perform a weather check on each city using a series of successive API calls.\n",
    "* Include a print log of each city as it'sbeing processed (with the city number and city name).\n"
   ]
  },
  {
   "cell_type": "code",
   "execution_count": 3,
   "metadata": {},
   "outputs": [
    {
     "name": "stdout",
     "output_type": "stream",
     "text": [
      "tiksi: 2015306\n",
      "bisira: 3702269\n",
      "illoqqortoormiut is not available\n",
      "shahr-e babak: 115781\n",
      "hithadhoo: 1282256\n",
      "yongan: 1806687\n",
      "vaini: 4032243\n",
      "koumac: 2140558\n",
      "upernavik: 3418910\n",
      "sinnamary: 3380290\n",
      "ushuaia: 3833367\n",
      "hermanus: 3366880\n",
      "champerico: 3598787\n",
      "bouna: 2290849\n",
      "mataura: 6201424\n",
      "urumqi: 1529102\n",
      "georgetown: 1735106\n",
      "taolanaro is not available\n",
      "provideniya: 4031574\n",
      "rikitea: 4030556\n",
      "kapaa: 5848280\n",
      "pevek: 2122090\n",
      "yellowknife: 6185377\n",
      "castro: 3466704\n",
      "busselton: 2075265\n",
      "buala: 2109528\n",
      "punta arenas: 3874787\n",
      "hamilton: 4513583\n",
      "swan river: 6160362\n",
      "atuona: 4020109\n",
      "guerrero negro: 4021858\n",
      "torbay: 6167817\n",
      "belogorsk: 2026895\n",
      "saskylakh: 2017155\n",
      "bindura: 895061\n",
      "barmer: 1276901\n",
      "cape town: 3369157\n",
      "wewak: 2083537\n",
      "barentsburg is not available\n",
      "ribeira grande: 3372707\n",
      "paamiut: 3421193\n",
      "bredasdorp: 1015776\n",
      "attawapiskat is not available\n",
      "luderitz: 3355672\n",
      "butaritari: 2110227\n",
      "hobart: 2163355\n",
      "kissidougou: 2419472\n",
      "jamestown: 5122534\n",
      "carnarvon: 2074865\n",
      "port-cartier: 6111696\n",
      "chokurdakh: 2126123\n",
      "leningradskiy: 2123814\n",
      "saldanha: 3361934\n",
      "albany: 5106841\n",
      "kralendijk: 3513563\n",
      "amderma is not available\n",
      "bluff: 2206939\n",
      "nikolskoye: 546105\n",
      "sangar: 2017215\n",
      "gazojak: 1514792\n",
      "hilo: 5855927\n",
      "mwanza: 152224\n",
      "manokwari: 1636308\n",
      "mahebourg: 934322\n",
      "hwange: 889942\n",
      "mar del plata: 3430863\n",
      "kavaratti: 1267390\n",
      "kruisfontein: 986717\n",
      "quesnel: 6115187\n",
      "tehachapi: 5401297\n",
      "airai: 1651810\n",
      "itaqui: 3460629\n",
      "saint-philippe: 935215\n",
      "severo-kurilsk: 2121385\n",
      "dryden: 5942913\n",
      "baruun-urt: 2032614\n",
      "inirida: 3671450\n",
      "shamkhal: 495893\n",
      "bengkulu: 1649150\n",
      "bathsheba: 3374083\n",
      "deputatskiy: 2028164\n",
      "yeniseysk: 1485997\n",
      "lebu: 3883457\n",
      "grand gaube: 934479\n",
      "chuy: 3443061\n",
      "mount gambier: 2156643\n",
      "el alto: 3697441\n",
      "bereda: 3105522\n",
      "kavieng: 2094342\n",
      "tasiilaq: 3424607\n",
      "faanui: 4034551\n",
      "surab: 1164306\n",
      "belushya guba is not available\n",
      "avera: 4231997\n",
      "bolshiye uki is not available\n",
      "barrow: 5880054\n",
      "pitkyaranta: 509234\n",
      "talnakh: 1490256\n",
      "roald: 3141667\n",
      "cockburn town: 3576994\n",
      "ostrovnoy: 556268\n",
      "saint-pierre: 935214\n",
      "progreso: 3521108\n",
      "tuktoyaktuk: 6170031\n",
      "marawi: 1701054\n",
      "svetlogorsk: 10722858\n",
      "cidreira: 3466165\n",
      "nizhneyansk is not available\n",
      "hualmay: 3939761\n",
      "teahupoo: 4033543\n",
      "cap malheureux: 934649\n",
      "kuito: 3348078\n",
      "cessnock: 2171845\n",
      "avarua: 4035715\n",
      "port alfred: 964432\n",
      "nouadhibou: 2377457\n",
      "pandan: 1695546\n",
      "shenjiamen: 1795632\n",
      "long xuyen: 1575627\n",
      "punta de piedra: 3629604\n",
      "seoul: 1835848\n",
      "new norfolk: 2155415\n",
      "tevaitoa: 4033375\n",
      "palabuhanratu is not available\n",
      "kirensk: 2022083\n",
      "mys shmidta is not available\n",
      "samarai: 2132606\n",
      "rocha: 3440777\n",
      "saint-augustin: 6137462\n",
      "aklavik: 5882953\n",
      "hofn: 2630299\n",
      "fortuna: 5563839\n",
      "waipawa: 2206874\n",
      "mandalgovi: 2030065\n",
      "sangueya: 2416061\n",
      "churapcha: 2025241\n",
      "calamar: 3687972\n",
      "buchanan: 2278158\n",
      "haverfordwest: 2647311\n",
      "lushoto: 155569\n",
      "igatpuri: 1269810\n",
      "ilulissat: 3423146\n",
      "olinda: 3393536\n",
      "foumban: 2231506\n",
      "grand centre is not available\n",
      "salalah: 286621\n",
      "broken hill: 2173911\n",
      "hobyo: 57000\n",
      "san carlos del zulia: 3628489\n",
      "tuatapere: 2180815\n",
      "ulaangom: 1515029\n",
      "ossora: 2122389\n",
      "sitka: 5557293\n",
      "babai: 1278073\n",
      "upata: 3625710\n",
      "kodiak: 5866583\n",
      "dikson: 1507390\n",
      "gamba: 2400547\n",
      "beihai: 1816705\n",
      "longyearbyen: 2729907\n",
      "kosonsoy: 1513714\n",
      "portland: 5746545\n",
      "saint george: 5546220\n",
      "gizo: 2108857\n",
      "iqaluit: 5983720\n",
      "norman wells: 6089245\n",
      "muzaffargarh: 1169605\n",
      "kaeo: 2189343\n",
      "lima: 3936456\n",
      "luanda: 2240449\n",
      "jhargram: 1268990\n",
      "bud: 4255151\n",
      "hambantota: 1244926\n",
      "souillac: 933995\n",
      "bambous virieux: 1106677\n",
      "cayenne: 3382160\n",
      "contai: 1344069\n",
      "bontang: 1648186\n",
      "channel-port aux basques: 5919815\n",
      "los dos caminos: 3634184\n",
      "hihifo is not available\n",
      "east london: 1006984\n",
      "touba: 2280376\n",
      "suzu is not available\n",
      "puerto ayora: 3652764\n",
      "katsuura: 2112309\n",
      "biak: 1637001\n",
      "san andres: 3670218\n",
      "cherskiy: 2126199\n",
      "kashan: 128477\n",
      "malakal: 370737\n",
      "yamada: 2110560\n",
      "qena: 350550\n",
      "tual: 1623197\n",
      "khatanga: 2022572\n",
      "ponta do sol: 2264557\n",
      "naze: 1855540\n",
      "thompson: 6165406\n",
      "asau: 686090\n",
      "saleaula is not available\n",
      "araouane: 2460954\n",
      "coquimbo: 3893629\n",
      "lasa: 3175096\n",
      "norden: 2862118\n",
      "xuddur: 49747\n",
      "sabirabad: 585187\n",
      "vila franca do campo: 3372472\n",
      "hasaki: 2112802\n",
      "nome: 5870133\n",
      "pacifica: 5380420\n",
      "baykit: 1510689\n",
      "camacupa: 3351014\n",
      "izumo: 1861084\n",
      "wanlaweyn: 50672\n",
      "clyde river: 5924351\n",
      "sobolevo: 525426\n",
      "saquena: 3692020\n",
      "thinadhoo: 1337610\n",
      "port elizabeth: 964420\n",
      "nemuro: 2128975\n",
      "portree: 2640006\n",
      "banda aceh: 1215502\n",
      "richards bay: 962367\n",
      "lompoc: 5367788\n",
      "alto vera is not available\n",
      "santa vitoria do palmar: 3449747\n",
      "oranjemund: 3354071\n",
      "baraboo: 5244638\n",
      "yulara: 6355222\n",
      "bakel: 2252606\n",
      "miraflores: 3761194\n",
      "hay river: 5972762\n",
      "brigantine: 4500920\n",
      "bullingen is not available\n",
      "noumea: 2139521\n",
      "san cristobal: 3628473\n",
      "candido de abreu: 3467545\n",
      "florence: 3176959\n",
      "san vicente: 3428068\n",
      "san matias: 3444105\n",
      "play cu is not available\n",
      "turayf: 101312\n",
      "klaksvik: 2618795\n",
      "neuquen: 3843123\n",
      "rawannawi is not available\n",
      "pacific grove: 5380437\n",
      "dunedin: 2191562\n",
      "umzimvubu is not available\n",
      "mazagao: 3395042\n",
      "kihei: 5849297\n",
      "vila velha: 3445026\n",
      "okhotsk: 2122605\n",
      "florianopolis: 6323121\n",
      "roebourne: 2062276\n",
      "zatoka: 687557\n",
      "kaitangata: 2208248\n",
      "caucaia: 3402429\n",
      "vaitupu is not available\n",
      "zwedru: 2272491\n",
      "meulaboh: 1214488\n",
      "raudeberg: 3146487\n",
      "dingle: 1714733\n",
      "cuamba: 1047660\n",
      "matay: 352628\n",
      "adrar: 2381972\n",
      "nabire: 1634614\n",
      "lesozavodsk: 2020812\n",
      "morrinhos: 3456735\n",
      "lucapa: 145724\n",
      "warqla is not available\n",
      "shchelyayur is not available\n",
      "surgut: 1490624\n",
      "caravelas: 3466980\n",
      "malaya purga: 531426\n",
      "oktyabrskoye: 515805\n",
      "mizdah: 2214827\n",
      "ust-kamchatsk is not available\n",
      "shahreza: 417594\n",
      "ishigaki: 1861416\n",
      "morondava: 1058381\n",
      "weilburg: 2812626\n",
      "quartucciu: 2523666\n",
      "calarasi: 618454\n",
      "burica is not available\n",
      "vao: 2137773\n",
      "takoradi: 2294915\n",
      "kirakira: 2178753\n",
      "bukama: 217834\n",
      "hendek: 745664\n",
      "chagda is not available\n",
      "mandan: 5690366\n",
      "oranjestad: 3577154\n",
      "maningrida: 2067089\n",
      "fukue: 1863997\n",
      "mana: 3381041\n",
      "cedar city: 5536630\n",
      "viedma: 3832899\n",
      "bull savanna: 3491161\n",
      "constitucion: 3893726\n",
      "kerrville: 4703078\n",
      "manavalakurichi: 1263942\n",
      "toliary is not available\n",
      "leh: 1264976\n",
      "ardakan: 143073\n",
      "lodja: 211647\n",
      "majene: 1636806\n",
      "port blair: 1259385\n",
      "san patricio: 4726521\n",
      "alta floresta: 6316343\n",
      "methoni: 257122\n",
      "arraial do cabo: 3471451\n",
      "namatanai: 2090021\n",
      "saint-louis: 2246451\n",
      "kungurtug: 1501377\n",
      "juifang is not available\n",
      "grand river south east is not available\n",
      "kangaatsiaq: 3422683\n",
      "bykovo: 570298\n",
      "beloha: 1067565\n",
      "johnstown: 5195561\n",
      "yarada: 1252783\n",
      "bandarbeyla: 64814\n",
      "gobabis: 3357247\n",
      "kahului: 5847411\n",
      "praia: 3374333\n",
      "san jose: 5392171\n",
      "esperance: 2071860\n",
      "cradock: 1012600\n",
      "kutum: 371745\n",
      "ahipara: 2194098\n",
      "gombong: 1643920\n",
      "kurumkan: 2021188\n",
      "basco: 1726449\n",
      "abaete: 3473267\n",
      "kushima: 1895695\n",
      "henties bay: 3356832\n",
      "cabo san lucas: 3985710\n",
      "lavrentiya: 4031637\n",
      "hachinohe: 2130203\n",
      "puerto escondido: 3520994\n",
      "bilibino: 2126682\n",
      "kaduqli: 373141\n",
      "mount isa: 2065594\n",
      "vardo: 777019\n",
      "pittsburg: 5383465\n",
      "tabou: 2281120\n",
      "rio claro: 3451234\n",
      "zaraza: 3625066\n",
      "kaa-khem: 1505187\n",
      "dzhusaly is not available\n",
      "tukums: 454768\n",
      "qaanaaq: 3831208\n",
      "bethel: 5282297\n",
      "college: 5859699\n",
      "hogyesz: 3051415\n",
      "markova: 701802\n",
      "sorvag is not available\n",
      "tera: 2438855\n",
      "bandrele: 1090397\n",
      "bay city: 4985180\n",
      "manzanillo: 3547867\n",
      "acapulco: 3533462\n",
      "muriwai beach: 2186363\n",
      "svetlyy: 485660\n",
      "shonguy: 493795\n",
      "kontagora: 2334008\n",
      "ust-maya: 2013918\n",
      "port antonio: 3489005\n",
      "axim: 2303611\n",
      "barcelos: 2742416\n",
      "abeche: 245785\n",
      "sweetwater: 4174600\n",
      "lujiang: 1802068\n",
      "merrill: 5262680\n",
      "dourados: 3464460\n",
      "surin: 1606030\n",
      "provost: 6113828\n",
      "gwadar: 1177446\n",
      "port lincoln: 2063036\n",
      "rabo de peixe: 3372745\n",
      "ewa beach: 5855051\n",
      "leshukonskoye: 535839\n",
      "saint anthony: 5044290\n",
      "lishui: 1803245\n",
      "marcona is not available\n",
      "perigueux: 2987967\n",
      "lorengau: 2092164\n",
      "port hedland: 2063042\n",
      "chara: 2025630\n",
      "sioni: 615844\n",
      "taoudenni: 2450173\n",
      "koslan: 544084\n",
      "riyadh: 108410\n",
      "lamu: 189741\n",
      "colares: 2269142\n",
      "valparaiso: 3868626\n",
      "kulhudhuffushi: 1337613\n",
      "sentyabrskiy is not available\n",
      "necochea: 3430443\n",
      "saveh: 116667\n",
      "mendahara is not available\n",
      "margate: 2643044\n",
      "litovko: 2020738\n",
      "komsomolskiy: 1513491\n",
      "malindi: 187968\n",
      "ballina: 2177069\n",
      "santa marta: 3668605\n",
      "tautira: 4033557\n",
      "buenos aires: 3435910\n",
      "tabuk: 1684803\n",
      "manaus: 3663517\n",
      "labuhan: 8079926\n",
      "bumba: 217745\n",
      "bilma: 2446796\n",
      "faya: 110690\n",
      "petropavlovsk-kamchatskiy: 2122104\n",
      "tuggurt is not available\n",
      "mokhotlong: 932416\n",
      "horadiz: 148003\n",
      "praia da vitoria: 3372760\n",
      "quatre cocos: 1106643\n",
      "coihueco: 3894406\n",
      "najran: 103630\n",
      "vila praia de ancora: 2732516\n",
      "codrington: 2171099\n",
      "lubao: 1705441\n",
      "traverse city: 5012495\n",
      "sao joao da barra: 3448903\n",
      "evensk: 2125693\n",
      "antigonish: 5886182\n",
      "neyshabur: 122285\n",
      "aitape: 2101169\n",
      "sembe: 2255304\n",
      "lappeenranta: 648900\n"
     ]
    },
    {
     "name": "stdout",
     "output_type": "stream",
     "text": [
      "marsaxlokk: 2562247\n",
      "erenhot: 2037485\n",
      "kisangani: 212730\n",
      "coahuayana: 4013679\n",
      "awjilah: 88533\n",
      "sioux lookout: 6148373\n",
      "goure: 2444219\n",
      "bima: 1648759\n",
      "lamar: 4705086\n",
      "husavik: 2629833\n",
      "shiggaon: 1256539\n",
      "evanston: 4891382\n",
      "huazolotitlan is not available\n",
      "irbil: 95446\n",
      "rolim de moura is not available\n",
      "talas: 299900\n",
      "puerto rondon: 3671337\n",
      "felidhoo is not available\n",
      "chitungwiza: 1106542\n",
      "nikel: 522260\n",
      "hondo: 1862230\n",
      "port-de-paix is not available\n",
      "laguna: 5364271\n",
      "raymond: 4976361\n",
      "batemans bay: 2176639\n",
      "jiddah is not available\n",
      "karaul is not available\n",
      "russell: 4047434\n",
      "varnavino: 476982\n",
      "san miguel: 3583446\n",
      "helena: 5656882\n",
      "great bend: 4272340\n",
      "cabedelo: 3404558\n",
      "port harcourt: 2324774\n",
      "urdzhar is not available\n",
      "narsaq: 3421719\n",
      "ixtapa: 4004293\n",
      "tallahassee: 4174715\n",
      "ambulu: 1621313\n",
      "mexico: 1699805\n",
      "lakes entrance: 2160735\n",
      "vrangel: 2013258\n",
      "yerofey pavlovich: 2012938\n",
      "srednekolymsk: 2121025\n",
      "yumen: 1528998\n",
      "nador: 2541479\n",
      "namibe: 3347019\n",
      "pauini: 3662927\n",
      "bocas del toro: 3713959\n",
      "santa cruz: 3904906\n",
      "dudingen: 2660970\n",
      "tahe: 2034615\n",
      "kuche is not available\n",
      "aasiaat: 3424901\n",
      "kichera: 2022129\n",
      "nanortalik: 3421765\n",
      "rio gallegos: 3838859\n",
      "nioro: 2412408\n",
      "nakamura: 1855891\n",
      "abnub: 362973\n",
      "durusu: 747793\n",
      "poum: 2138555\n",
      "alekseyevsk: 2022083\n",
      "shache: 1280037\n",
      "senj: 3191055\n",
      "yar-sale: 1486321\n",
      "fuyu: 2037335\n",
      "yabelo: 326036\n",
      "victoria: 1819729\n",
      "bagotville: 2177254\n",
      "ambilobe: 1082243\n",
      "vestmannaeyjar: 3412093\n",
      "haines junction: 5969025\n",
      "swan hill: 2147756\n",
      "zolotinka is not available\n",
      "billings: 5640350\n",
      "alofi: 4036284\n",
      "formoso do araguaia is not available\n",
      "carballo: 3126369\n",
      "auki: 2109701\n",
      "pakwach is not available\n",
      "grindavik: 3416888\n",
      "green river: 5826559\n",
      "sydney: 2147714\n",
      "cabo rojo: 4562996\n",
      "nguruka: 151567\n",
      "ushibuka: 1849154\n",
      "nalut: 2214432\n",
      "moses lake: 5803990\n",
      "sapa: 1687343\n",
      "am timan: 245338\n",
      "tutoia: 3385899\n",
      "ambanja: 1083724\n",
      "xingcheng: 2033766\n",
      "sabang: 1214026\n",
      "kupang: 2057087\n",
      "namuac: 1698354\n",
      "santa maria: 3450083\n",
      "williston: 5692947\n",
      "zyryanka: 2119283\n",
      "skagastrond is not available\n",
      "pudozh: 504269\n",
      "atar: 2381334\n",
      "tumannyy is not available\n",
      "oistins: 3373652\n",
      "ouesso: 2255564\n",
      "dhidhdhoo: 1337612\n",
      "cabot: 4103957\n",
      "saint-georges: 3579925\n",
      "berlevag: 780687\n",
      "pindi gheb: 1168015\n",
      "itapirapua: 3460697\n",
      "bonavista: 5905393\n",
      "irbeyskoye: 1505529\n",
      "manyoni: 157448\n",
      "mama: 2020313\n",
      "asosa: 343292\n",
      "ambon: 1651531\n",
      "samusu is not available\n",
      "independencia: 3398255\n",
      "puerto leguizamo: 3671437\n",
      "murgab: 1218612\n",
      "chino valley: 5289658\n",
      "kamenskoye is not available\n",
      "mbandaka: 2312895\n",
      "pran buri: 1151063\n",
      "west wendover: 5710035\n",
      "ayan: 2027316\n",
      "nantucket: 4944903\n",
      "zamosc: 753866\n",
      "bilgi: 1275619\n",
      "santa rosa: 1687894\n",
      "yakeshi: 2033536\n",
      "vostok: 2013279\n",
      "cabatuan: 1721720\n",
      "maymanak is not available\n",
      "shimoda: 1852357\n",
      "nizhniy lomov: 520574\n",
      "les cayes: 3728097\n",
      "camacha: 2270385\n",
      "katherine: 2068655\n",
      "mehamn: 778707\n",
      "bolungarvik is not available\n",
      "gornja tuzla: 3200167\n",
      "blagoyevo: 576093\n",
      "general bravo: 3527457\n",
      "san borja: 3905792\n",
      "jacareacanga: 3397763\n",
      "los llanos de aridane: 2514651\n",
      "ulaanbaatar: 2028462\n",
      "ust-barguzin: 2013986\n",
      "puri: 1259184\n",
      "ancud: 3899695\n",
      "san martin: 3836992\n",
      "sao felix do xingu: 3388847\n",
      "altay: 1529651\n",
      "madimba: 878141\n",
      "babanusah is not available\n",
      "san quintin: 3984997\n",
      "tucupita: 3625929\n",
      "ouadda: 236901\n",
      "akita: 2113126\n",
      "tokur: 2015217\n",
      "dandong: 2037886\n",
      "eirunepe: 3664321\n",
      "kalmunai: 1242110\n",
      "tsihombe is not available\n",
      "broome: 5110365\n",
      "alyangula: 2079582\n",
      "tadine: 2138285\n",
      "saint-leu: 6690297\n",
      "cairns: 2172797\n",
      "olafsvik: 3414079\n",
      "roberto payan is not available\n"
     ]
    }
   ],
   "source": [
    "url = \"http://api.openweathermap.org/data/2.5/weather?\"\n",
    "city_name=[]\n",
    "#city_id =[]\n",
    "country=[]\n",
    "lat=[]\n",
    "long=[]\n",
    "temp=[]\n",
    "clouds=[]\n",
    "humidity=[]\n",
    "wind_speed=[]\n",
    "max_temp=[]\n",
    "dt=[]\n",
    "\n",
    "\n",
    "\n",
    "for city in cities:\n",
    "    query_url = url + \"appid=\" + weather_api_key + \"&q=\" + city + \"&units=\"+ 'imperial'\n",
    "    weather_response1 = requests.get(query_url)\n",
    "    weather1_json = weather_response1.json()\n",
    "    try:\n",
    "        city_name.append(weather1_json['name'])\n",
    "        #city_id.append(weather1_json['id'])\n",
    "        country.append(weather1_json['sys']['country'])\n",
    "        dt.append(weather1_json['dt'])\n",
    "        temp.append(weather1_json['main']['temp'])\n",
    "        max_temp.append(weather1_json['main']['temp_max'])\n",
    "        lat.append(weather1_json['coord']['lat'])\n",
    "        long.append(weather1_json['coord']['lon'])\n",
    "        clouds.append(weather1_json['clouds']['all'])\n",
    "        humidity.append(weather1_json['main']['humidity'])\n",
    "        wind_speed.append(weather1_json['wind']['speed'])\n",
    "        \n",
    "        print(f\"{city}: {weather1_json['id']}\")\n",
    "    except KeyError:\n",
    "        print(f\"{city} is not available\")\n",
    "        "
   ]
  },
  {
   "cell_type": "code",
   "execution_count": 4,
   "metadata": {},
   "outputs": [
    {
     "data": {
      "text/plain": [
       "554"
      ]
     },
     "execution_count": 4,
     "metadata": {},
     "output_type": "execute_result"
    }
   ],
   "source": [
    "len(max_temp)"
   ]
  },
  {
   "cell_type": "markdown",
   "metadata": {},
   "source": [
    "### Convert Raw Data to DataFrame\n",
    "* Export the city data into a .csv.\n",
    "* Display the DataFrame"
   ]
  },
  {
   "cell_type": "code",
   "execution_count": 6,
   "metadata": {},
   "outputs": [
    {
     "data": {
      "text/html": [
       "<div>\n",
       "<style scoped>\n",
       "    .dataframe tbody tr th:only-of-type {\n",
       "        vertical-align: middle;\n",
       "    }\n",
       "\n",
       "    .dataframe tbody tr th {\n",
       "        vertical-align: top;\n",
       "    }\n",
       "\n",
       "    .dataframe thead th {\n",
       "        text-align: right;\n",
       "    }\n",
       "</style>\n",
       "<table border=\"1\" class=\"dataframe\">\n",
       "  <thead>\n",
       "    <tr style=\"text-align: right;\">\n",
       "      <th></th>\n",
       "      <th>City</th>\n",
       "      <th>Country</th>\n",
       "      <th>UTC_dt</th>\n",
       "      <th>Lat</th>\n",
       "      <th>Lng</th>\n",
       "      <th>Temperature</th>\n",
       "      <th>Max_temp</th>\n",
       "      <th>Cloudiness</th>\n",
       "      <th>Humidity</th>\n",
       "      <th>Wind_speed</th>\n",
       "    </tr>\n",
       "  </thead>\n",
       "  <tbody>\n",
       "    <tr>\n",
       "      <th>0</th>\n",
       "      <td>Tiksi</td>\n",
       "      <td>RU</td>\n",
       "      <td>1622348567</td>\n",
       "      <td>71.6872</td>\n",
       "      <td>128.8694</td>\n",
       "      <td>35.73</td>\n",
       "      <td>35.73</td>\n",
       "      <td>15</td>\n",
       "      <td>85</td>\n",
       "      <td>9.46</td>\n",
       "    </tr>\n",
       "    <tr>\n",
       "      <th>1</th>\n",
       "      <td>Bisira</td>\n",
       "      <td>PA</td>\n",
       "      <td>1622348567</td>\n",
       "      <td>8.5196</td>\n",
       "      <td>-81.7115</td>\n",
       "      <td>60.82</td>\n",
       "      <td>60.82</td>\n",
       "      <td>100</td>\n",
       "      <td>94</td>\n",
       "      <td>2.28</td>\n",
       "    </tr>\n",
       "    <tr>\n",
       "      <th>2</th>\n",
       "      <td>Shahr-e Bābak</td>\n",
       "      <td>IR</td>\n",
       "      <td>1622348568</td>\n",
       "      <td>30.1165</td>\n",
       "      <td>55.1186</td>\n",
       "      <td>78.96</td>\n",
       "      <td>78.96</td>\n",
       "      <td>2</td>\n",
       "      <td>13</td>\n",
       "      <td>8.25</td>\n",
       "    </tr>\n",
       "    <tr>\n",
       "      <th>3</th>\n",
       "      <td>Hithadhoo</td>\n",
       "      <td>MV</td>\n",
       "      <td>1622348568</td>\n",
       "      <td>-0.6000</td>\n",
       "      <td>73.0833</td>\n",
       "      <td>83.44</td>\n",
       "      <td>83.44</td>\n",
       "      <td>53</td>\n",
       "      <td>72</td>\n",
       "      <td>17.11</td>\n",
       "    </tr>\n",
       "    <tr>\n",
       "      <th>4</th>\n",
       "      <td>Yong’an</td>\n",
       "      <td>CN</td>\n",
       "      <td>1622348569</td>\n",
       "      <td>39.6957</td>\n",
       "      <td>113.6871</td>\n",
       "      <td>74.43</td>\n",
       "      <td>74.43</td>\n",
       "      <td>1</td>\n",
       "      <td>33</td>\n",
       "      <td>6.53</td>\n",
       "    </tr>\n",
       "    <tr>\n",
       "      <th>...</th>\n",
       "      <td>...</td>\n",
       "      <td>...</td>\n",
       "      <td>...</td>\n",
       "      <td>...</td>\n",
       "      <td>...</td>\n",
       "      <td>...</td>\n",
       "      <td>...</td>\n",
       "      <td>...</td>\n",
       "      <td>...</td>\n",
       "      <td>...</td>\n",
       "    </tr>\n",
       "    <tr>\n",
       "      <th>549</th>\n",
       "      <td>Alyangula</td>\n",
       "      <td>AU</td>\n",
       "      <td>1622348779</td>\n",
       "      <td>-13.8483</td>\n",
       "      <td>136.4192</td>\n",
       "      <td>84.07</td>\n",
       "      <td>84.07</td>\n",
       "      <td>60</td>\n",
       "      <td>51</td>\n",
       "      <td>11.45</td>\n",
       "    </tr>\n",
       "    <tr>\n",
       "      <th>550</th>\n",
       "      <td>Tadine</td>\n",
       "      <td>NC</td>\n",
       "      <td>1622348779</td>\n",
       "      <td>-21.5500</td>\n",
       "      <td>167.8833</td>\n",
       "      <td>72.63</td>\n",
       "      <td>72.63</td>\n",
       "      <td>100</td>\n",
       "      <td>58</td>\n",
       "      <td>14.27</td>\n",
       "    </tr>\n",
       "    <tr>\n",
       "      <th>551</th>\n",
       "      <td>Saint-Leu</td>\n",
       "      <td>RE</td>\n",
       "      <td>1622348780</td>\n",
       "      <td>-21.1500</td>\n",
       "      <td>55.2833</td>\n",
       "      <td>70.95</td>\n",
       "      <td>72.46</td>\n",
       "      <td>0</td>\n",
       "      <td>62</td>\n",
       "      <td>3.96</td>\n",
       "    </tr>\n",
       "    <tr>\n",
       "      <th>552</th>\n",
       "      <td>Cairns</td>\n",
       "      <td>AU</td>\n",
       "      <td>1622348780</td>\n",
       "      <td>-16.9167</td>\n",
       "      <td>145.7667</td>\n",
       "      <td>76.53</td>\n",
       "      <td>78.06</td>\n",
       "      <td>90</td>\n",
       "      <td>73</td>\n",
       "      <td>14.97</td>\n",
       "    </tr>\n",
       "    <tr>\n",
       "      <th>553</th>\n",
       "      <td>Olafsvik</td>\n",
       "      <td>IS</td>\n",
       "      <td>1622348780</td>\n",
       "      <td>64.8945</td>\n",
       "      <td>-23.7142</td>\n",
       "      <td>45.84</td>\n",
       "      <td>45.84</td>\n",
       "      <td>100</td>\n",
       "      <td>94</td>\n",
       "      <td>28.70</td>\n",
       "    </tr>\n",
       "  </tbody>\n",
       "</table>\n",
       "<p>554 rows × 10 columns</p>\n",
       "</div>"
      ],
      "text/plain": [
       "              City Country      UTC_dt      Lat       Lng  Temperature  \\\n",
       "0            Tiksi      RU  1622348567  71.6872  128.8694        35.73   \n",
       "1           Bisira      PA  1622348567   8.5196  -81.7115        60.82   \n",
       "2    Shahr-e Bābak      IR  1622348568  30.1165   55.1186        78.96   \n",
       "3        Hithadhoo      MV  1622348568  -0.6000   73.0833        83.44   \n",
       "4          Yong’an      CN  1622348569  39.6957  113.6871        74.43   \n",
       "..             ...     ...         ...      ...       ...          ...   \n",
       "549      Alyangula      AU  1622348779 -13.8483  136.4192        84.07   \n",
       "550         Tadine      NC  1622348779 -21.5500  167.8833        72.63   \n",
       "551      Saint-Leu      RE  1622348780 -21.1500   55.2833        70.95   \n",
       "552         Cairns      AU  1622348780 -16.9167  145.7667        76.53   \n",
       "553       Olafsvik      IS  1622348780  64.8945  -23.7142        45.84   \n",
       "\n",
       "     Max_temp  Cloudiness  Humidity  Wind_speed  \n",
       "0       35.73          15        85        9.46  \n",
       "1       60.82         100        94        2.28  \n",
       "2       78.96           2        13        8.25  \n",
       "3       83.44          53        72       17.11  \n",
       "4       74.43           1        33        6.53  \n",
       "..        ...         ...       ...         ...  \n",
       "549     84.07          60        51       11.45  \n",
       "550     72.63         100        58       14.27  \n",
       "551     72.46           0        62        3.96  \n",
       "552     78.06          90        73       14.97  \n",
       "553     45.84         100        94       28.70  \n",
       "\n",
       "[554 rows x 10 columns]"
      ]
     },
     "execution_count": 6,
     "metadata": {},
     "output_type": "execute_result"
    }
   ],
   "source": [
    "weather_dict={'City': city_name,\n",
    "           #'City_id':city_id,\n",
    "              'Country':country,\n",
    "              'UTC_dt':dt,\n",
    "           'Lat': lat,\n",
    "           'Lng': long,\n",
    "           'Temperature': temp,\n",
    "           'Max_temp':max_temp,\n",
    "           'Cloudiness': clouds,\n",
    "           'Humidity':humidity,\n",
    "           'Wind_speed':wind_speed,\n",
    "             }\n",
    "weather_dict\n",
    "weather_df=pd.DataFrame(weather_dict)\n",
    "weather_df.to_csv(r'weather_search.csv',index=False)\n",
    "weather_df"
   ]
  },
  {
   "cell_type": "code",
   "execution_count": 7,
   "metadata": {},
   "outputs": [],
   "source": [
    "weather_df.to_html('city_weather.html')"
   ]
  },
  {
   "cell_type": "markdown",
   "metadata": {},
   "source": [
    "## Inspect the data and remove the cities where the humidity > 100%.\n",
    "----\n",
    "Skip this step if there are no cities that have humidity > 100%. "
   ]
  },
  {
   "cell_type": "code",
   "execution_count": 8,
   "metadata": {},
   "outputs": [
    {
     "data": {
      "text/plain": [
       "0"
      ]
     },
     "execution_count": 8,
     "metadata": {},
     "output_type": "execute_result"
    }
   ],
   "source": [
    "len(weather_df.loc[weather_df['Humidity']>100])"
   ]
  },
  {
   "cell_type": "markdown",
   "metadata": {},
   "source": [
    "## Plotting the Data\n",
    "* Use proper labeling of the plots using plot titles (including date of analysis) and axes labels.\n",
    "* Save the plotted figures as .pngs."
   ]
  },
  {
   "cell_type": "markdown",
   "metadata": {},
   "source": [
    "## Latitude vs. Temperature Plot"
   ]
  },
  {
   "cell_type": "code",
   "execution_count": 9,
   "metadata": {
    "scrolled": true
   },
   "outputs": [
    {
     "data": {
      "image/png": "[encoded data removed]",
      "text/plain": [
       "<Figure size 432x288 with 1 Axes>"
      ]
     },
     "metadata": {
      "needs_background": "light"
     },
     "output_type": "display_data"
    }
   ],
   "source": [
    "x=weather_df['Lat']\n",
    "y=weather_df['Temperature']\n",
    "\n",
    "plt.scatter(x,y)\n",
    "plt.xlabel(\"Latitude\")\n",
    "plt.ylabel(\"Temperature (F)\")\n",
    "plt.title(\"Temperature vs. Latitude \\n April 25, 2021\")\n",
    "plt.grid()\n",
    "plt.savefig('Temp_vs_Lat')\n",
    "plt.show()"
   ]
  },
  {
   "cell_type": "markdown",
   "metadata": {},
   "source": [
    "### Analysis\n",
    "- As expected, tempertures rise the as you get closer to the equator.  The northern hemispere is still in early sprig and therefore has lower temperatures.  (Analysis 4/25)"
   ]
  },
  {
   "cell_type": "markdown",
   "metadata": {},
   "source": [
    "## Latitude vs. Humidity Plot"
   ]
  },
  {
   "cell_type": "code",
   "execution_count": 10,
   "metadata": {},
   "outputs": [
    {
     "data": {
      "image/png": "[encoded data removed]",
      "text/plain": [
       "<Figure size 432x288 with 1 Axes>"
      ]
     },
     "metadata": {
      "needs_background": "light"
     },
     "output_type": "display_data"
    }
   ],
   "source": [
    "x=weather_df['Lat']\n",
    "y=weather_df['Humidity']\n",
    "\n",
    "plt.scatter(x,y)\n",
    "plt.xlabel(\"Latitude\")\n",
    "plt.ylabel(\"Humidity\")\n",
    "plt.title(\"Humidity vs. Latitude \\n April 25, 2021\")\n",
    "plt.grid()\n",
    "plt.savefig('Humidity_vs_Lat')\n",
    "\n",
    "plt.show()"
   ]
  },
  {
   "cell_type": "markdown",
   "metadata": {},
   "source": [
    " ### Analysis\n",
    " - Latitude doesn't appear to have an effect on high levels of humidity.  Although lower humidity levels are more prominent in the northern hemisphere, which could be a seasonal effect. (Analysis 4/25)"
   ]
  },
  {
   "cell_type": "markdown",
   "metadata": {},
   "source": [
    "## Latitude vs. Cloudiness Plot"
   ]
  },
  {
   "cell_type": "code",
   "execution_count": 11,
   "metadata": {},
   "outputs": [
    {
     "data": {
      "image/png": "[encoded data removed]",
      "text/plain": [
       "<Figure size 432x288 with 1 Axes>"
      ]
     },
     "metadata": {
      "needs_background": "light"
     },
     "output_type": "display_data"
    }
   ],
   "source": [
    "x=weather_df['Lat']\n",
    "y=weather_df['Cloudiness']\n",
    "\n",
    "plt.scatter(x,y)\n",
    "plt.xlabel(\"Latitude\")\n",
    "plt.ylabel(\"Cloudiness\")\n",
    "plt.title(\"Cloudiness vs. Latitude  \\n April 25, 2021\")\n",
    "plt.grid()\n",
    "plt.savefig('Cloudiness_vs_Lat')\n",
    "plt.show()"
   ]
  },
  {
   "cell_type": "markdown",
   "metadata": {},
   "source": [
    "### Analysis\n",
    "- Latitude doesn't have any affect on cloudiness.  (Analysis 4/25)"
   ]
  },
  {
   "cell_type": "markdown",
   "metadata": {},
   "source": [
    "## Latitude vs. Wind Speed Plot"
   ]
  },
  {
   "cell_type": "code",
   "execution_count": 12,
   "metadata": {},
   "outputs": [
    {
     "data": {
      "image/png": "[encoded data removed]",
      "text/plain": [
       "<Figure size 432x288 with 1 Axes>"
      ]
     },
     "metadata": {
      "needs_background": "light"
     },
     "output_type": "display_data"
    }
   ],
   "source": [
    "x=weather_df['Lat']\n",
    "y=weather_df['Wind_speed']\n",
    "\n",
    "plt.scatter(x,y)\n",
    "plt.xlabel(\"Latitude\")\n",
    "plt.ylabel(\"Wind Speed\")\n",
    "plt.title(\"Wind Speed (mph) vs. Latitude  \\n April 25, 2021\")\n",
    "plt.grid()\n",
    "plt.savefig('WindSpeed_vs_Lat')\n",
    "plt.show()"
   ]
  },
  {
   "cell_type": "markdown",
   "metadata": {},
   "source": [
    "### Analysis\n",
    "- There doesn't appear to be any relationship between wind speed and latitude. (Analysis 4/25)"
   ]
  },
  {
   "cell_type": "markdown",
   "metadata": {},
   "source": [
    "## Linear Regression"
   ]
  },
  {
   "cell_type": "code",
   "execution_count": 13,
   "metadata": {},
   "outputs": [
    {
     "data": {
      "text/html": [
       "<div>\n",
       "<style scoped>\n",
       "    .dataframe tbody tr th:only-of-type {\n",
       "        vertical-align: middle;\n",
       "    }\n",
       "\n",
       "    .dataframe tbody tr th {\n",
       "        vertical-align: top;\n",
       "    }\n",
       "\n",
       "    .dataframe thead th {\n",
       "        text-align: right;\n",
       "    }\n",
       "</style>\n",
       "<table border=\"1\" class=\"dataframe\">\n",
       "  <thead>\n",
       "    <tr style=\"text-align: right;\">\n",
       "      <th></th>\n",
       "      <th>City</th>\n",
       "      <th>Country</th>\n",
       "      <th>UTC_dt</th>\n",
       "      <th>Lat</th>\n",
       "      <th>Lng</th>\n",
       "      <th>Temperature</th>\n",
       "      <th>Max_temp</th>\n",
       "      <th>Cloudiness</th>\n",
       "      <th>Humidity</th>\n",
       "      <th>Wind_speed</th>\n",
       "    </tr>\n",
       "  </thead>\n",
       "  <tbody>\n",
       "    <tr>\n",
       "      <th>3</th>\n",
       "      <td>Hithadhoo</td>\n",
       "      <td>MV</td>\n",
       "      <td>1622348568</td>\n",
       "      <td>-0.6000</td>\n",
       "      <td>73.0833</td>\n",
       "      <td>83.44</td>\n",
       "      <td>83.44</td>\n",
       "      <td>53</td>\n",
       "      <td>72</td>\n",
       "      <td>17.11</td>\n",
       "    </tr>\n",
       "    <tr>\n",
       "      <th>5</th>\n",
       "      <td>Vaini</td>\n",
       "      <td>TO</td>\n",
       "      <td>1622348569</td>\n",
       "      <td>-21.2000</td>\n",
       "      <td>-175.2000</td>\n",
       "      <td>77.16</td>\n",
       "      <td>77.16</td>\n",
       "      <td>75</td>\n",
       "      <td>94</td>\n",
       "      <td>0.00</td>\n",
       "    </tr>\n",
       "    <tr>\n",
       "      <th>6</th>\n",
       "      <td>Koumac</td>\n",
       "      <td>NC</td>\n",
       "      <td>1622348569</td>\n",
       "      <td>-20.5667</td>\n",
       "      <td>164.2833</td>\n",
       "      <td>71.85</td>\n",
       "      <td>71.85</td>\n",
       "      <td>79</td>\n",
       "      <td>55</td>\n",
       "      <td>13.22</td>\n",
       "    </tr>\n",
       "    <tr>\n",
       "      <th>9</th>\n",
       "      <td>Ushuaia</td>\n",
       "      <td>AR</td>\n",
       "      <td>1622348552</td>\n",
       "      <td>-54.8000</td>\n",
       "      <td>-68.3000</td>\n",
       "      <td>21.29</td>\n",
       "      <td>21.29</td>\n",
       "      <td>96</td>\n",
       "      <td>97</td>\n",
       "      <td>4.16</td>\n",
       "    </tr>\n",
       "    <tr>\n",
       "      <th>10</th>\n",
       "      <td>Hermanus</td>\n",
       "      <td>ZA</td>\n",
       "      <td>1622348571</td>\n",
       "      <td>-34.4187</td>\n",
       "      <td>19.2345</td>\n",
       "      <td>48.79</td>\n",
       "      <td>54.90</td>\n",
       "      <td>94</td>\n",
       "      <td>80</td>\n",
       "      <td>5.28</td>\n",
       "    </tr>\n",
       "    <tr>\n",
       "      <th>...</th>\n",
       "      <td>...</td>\n",
       "      <td>...</td>\n",
       "      <td>...</td>\n",
       "      <td>...</td>\n",
       "      <td>...</td>\n",
       "      <td>...</td>\n",
       "      <td>...</td>\n",
       "      <td>...</td>\n",
       "      <td>...</td>\n",
       "      <td>...</td>\n",
       "    </tr>\n",
       "    <tr>\n",
       "      <th>546</th>\n",
       "      <td>Eirunepé</td>\n",
       "      <td>BR</td>\n",
       "      <td>1622348777</td>\n",
       "      <td>-6.6603</td>\n",
       "      <td>-69.8736</td>\n",
       "      <td>74.08</td>\n",
       "      <td>74.08</td>\n",
       "      <td>97</td>\n",
       "      <td>95</td>\n",
       "      <td>1.41</td>\n",
       "    </tr>\n",
       "    <tr>\n",
       "      <th>549</th>\n",
       "      <td>Alyangula</td>\n",
       "      <td>AU</td>\n",
       "      <td>1622348779</td>\n",
       "      <td>-13.8483</td>\n",
       "      <td>136.4192</td>\n",
       "      <td>84.07</td>\n",
       "      <td>84.07</td>\n",
       "      <td>60</td>\n",
       "      <td>51</td>\n",
       "      <td>11.45</td>\n",
       "    </tr>\n",
       "    <tr>\n",
       "      <th>550</th>\n",
       "      <td>Tadine</td>\n",
       "      <td>NC</td>\n",
       "      <td>1622348779</td>\n",
       "      <td>-21.5500</td>\n",
       "      <td>167.8833</td>\n",
       "      <td>72.63</td>\n",
       "      <td>72.63</td>\n",
       "      <td>100</td>\n",
       "      <td>58</td>\n",
       "      <td>14.27</td>\n",
       "    </tr>\n",
       "    <tr>\n",
       "      <th>551</th>\n",
       "      <td>Saint-Leu</td>\n",
       "      <td>RE</td>\n",
       "      <td>1622348780</td>\n",
       "      <td>-21.1500</td>\n",
       "      <td>55.2833</td>\n",
       "      <td>70.95</td>\n",
       "      <td>72.46</td>\n",
       "      <td>0</td>\n",
       "      <td>62</td>\n",
       "      <td>3.96</td>\n",
       "    </tr>\n",
       "    <tr>\n",
       "      <th>552</th>\n",
       "      <td>Cairns</td>\n",
       "      <td>AU</td>\n",
       "      <td>1622348780</td>\n",
       "      <td>-16.9167</td>\n",
       "      <td>145.7667</td>\n",
       "      <td>76.53</td>\n",
       "      <td>78.06</td>\n",
       "      <td>90</td>\n",
       "      <td>73</td>\n",
       "      <td>14.97</td>\n",
       "    </tr>\n",
       "  </tbody>\n",
       "</table>\n",
       "<p>174 rows × 10 columns</p>\n",
       "</div>"
      ],
      "text/plain": [
       "          City Country      UTC_dt      Lat       Lng  Temperature  Max_temp  \\\n",
       "3    Hithadhoo      MV  1622348568  -0.6000   73.0833        83.44     83.44   \n",
       "5        Vaini      TO  1622348569 -21.2000 -175.2000        77.16     77.16   \n",
       "6       Koumac      NC  1622348569 -20.5667  164.2833        71.85     71.85   \n",
       "9      Ushuaia      AR  1622348552 -54.8000  -68.3000        21.29     21.29   \n",
       "10    Hermanus      ZA  1622348571 -34.4187   19.2345        48.79     54.90   \n",
       "..         ...     ...         ...      ...       ...          ...       ...   \n",
       "546   Eirunepé      BR  1622348777  -6.6603  -69.8736        74.08     74.08   \n",
       "549  Alyangula      AU  1622348779 -13.8483  136.4192        84.07     84.07   \n",
       "550     Tadine      NC  1622348779 -21.5500  167.8833        72.63     72.63   \n",
       "551  Saint-Leu      RE  1622348780 -21.1500   55.2833        70.95     72.46   \n",
       "552     Cairns      AU  1622348780 -16.9167  145.7667        76.53     78.06   \n",
       "\n",
       "     Cloudiness  Humidity  Wind_speed  \n",
       "3            53        72       17.11  \n",
       "5            75        94        0.00  \n",
       "6            79        55       13.22  \n",
       "9            96        97        4.16  \n",
       "10           94        80        5.28  \n",
       "..          ...       ...         ...  \n",
       "546          97        95        1.41  \n",
       "549          60        51       11.45  \n",
       "550         100        58       14.27  \n",
       "551           0        62        3.96  \n",
       "552          90        73       14.97  \n",
       "\n",
       "[174 rows x 10 columns]"
      ]
     },
     "execution_count": 13,
     "metadata": {},
     "output_type": "execute_result"
    }
   ],
   "source": [
    "#create dataframes for North & South for simplier analysis\n",
    "northern_hem_df = weather_df.loc[weather_df['Lat']>=0]\n",
    "#northern_hem_df\n",
    "\n",
    "southern_hem_df = weather_df.loc[weather_df['Lat']<=0]\n",
    "southern_hem_df"
   ]
  },
  {
   "cell_type": "markdown",
   "metadata": {},
   "source": [
    "####  Northern Hemisphere - Max Temp vs. Latitude Linear Regression"
   ]
  },
  {
   "cell_type": "code",
   "execution_count": 14,
   "metadata": {},
   "outputs": [
    {
     "data": {
      "image/png": "[encoded data removed]",
      "text/plain": [
       "<Figure size 432x288 with 1 Axes>"
      ]
     },
     "metadata": {
      "needs_background": "light"
     },
     "output_type": "display_data"
    }
   ],
   "source": [
    "x=northern_hem_df['Lat']\n",
    "y=northern_hem_df['Max_temp']\n",
    "\n",
    "(slope, intercept, rvalue, pvalue, stderr) = linregress(x,y)\n",
    "regress_values = x * slope + intercept\n",
    "line_eq = \"y = \" + str(round(slope,2)) + \"x + \" + str(round(intercept,2))\n",
    "   \n",
    "plt.scatter(x,y)\n",
    "plt.plot(x,regress_values,\"r-\")\n",
    "plt.xlabel(\"Latitude\")\n",
    "plt.ylabel(\"Max Temperature (F)\")\n",
    "plt.title(f\"Temperature vs Latitude \\n Northern Hemisphere  \\n April 25, 2021\")\n",
    "plt.annotate(line_eq,(0,10),fontsize=15,color='red')\n",
    "plt.grid()\n",
    "plt.savefig('Temp_vs_Lat_NorthernHem')\n",
    "plt.show()"
   ]
  },
  {
   "cell_type": "markdown",
   "metadata": {},
   "source": [
    "####  Southern Hemisphere - Max Temp vs. Latitude Linear Regression"
   ]
  },
  {
   "cell_type": "code",
   "execution_count": 15,
   "metadata": {},
   "outputs": [
    {
     "data": {
      "image/png": "[encoded data removed]",
      "text/plain": [
       "<Figure size 432x288 with 1 Axes>"
      ]
     },
     "metadata": {
      "needs_background": "light"
     },
     "output_type": "display_data"
    }
   ],
   "source": [
    "x=southern_hem_df['Lat']\n",
    "y=southern_hem_df['Max_temp']\n",
    "\n",
    "(slope, intercept, rvalue, pvalue, stderr) = linregress(x,y)\n",
    "regress_values = x * slope + intercept\n",
    "line_eq = \"y = \" + str(round(slope,2)) + \"x + \" + str(round(intercept,2))\n",
    "   \n",
    "plt.scatter(x,y)\n",
    "plt.plot(x,regress_values,\"r-\")\n",
    "plt.xlabel(\"Latitude\")\n",
    "plt.ylabel(\"Max Temperature (F)\")\n",
    "plt.title(f\"Temperature vs Latitude \\n Southern Hemisphere  \\n April 25, 2021\")\n",
    "plt.annotate(line_eq,(-50,90),fontsize=15,color='red')\n",
    "plt.grid()\n",
    "plt.savefig('Temp_vs_Lat_SouthernHem')\n",
    "plt.show()"
   ]
  },
  {
   "cell_type": "markdown",
   "metadata": {},
   "source": [
    "### Analysis\n",
    "- As stated above, latitude has a directly correlated to temperatures.  The closer you are to the equator, the higher the temperatures.  This is evidenced with the regression line for both the northern and southern hemispheres graphs. (Analysis 4/25)"
   ]
  },
  {
   "cell_type": "markdown",
   "metadata": {},
   "source": [
    "####  Northern Hemisphere - Humidity (%) vs. Latitude Linear Regression"
   ]
  },
  {
   "cell_type": "code",
   "execution_count": 16,
   "metadata": {},
   "outputs": [
    {
     "data": {
      "image/png": "[encoded data removed]",
      "text/plain": [
       "<Figure size 432x288 with 1 Axes>"
      ]
     },
     "metadata": {
      "needs_background": "light"
     },
     "output_type": "display_data"
    }
   ],
   "source": [
    "x=northern_hem_df['Lat']\n",
    "y=northern_hem_df['Humidity']\n",
    "\n",
    "(slope, intercept, rvalue, pvalue, stderr) = linregress(x,y)\n",
    "regress_values = x * slope + intercept\n",
    "line_eq = \"y = \" + str(round(slope,2)) + \"x + \" + str(round(intercept,2))\n",
    "   \n",
    "plt.scatter(x,y)\n",
    "plt.plot(x,regress_values,\"r-\")\n",
    "plt.xlabel(\"Latitude\")\n",
    "plt.ylabel(\"Humidity\")\n",
    "plt.title(f\"Humidity vs Latitude \\n Northern Hemisphere  \\n April 25, 2021\")\n",
    "plt.annotate(line_eq,(45,5),fontsize=15,color='red')\n",
    "plt.grid()\n",
    "plt.savefig('Humidity_vs_Lat_NorthernHem')\n",
    "plt.show()"
   ]
  },
  {
   "cell_type": "markdown",
   "metadata": {},
   "source": [
    "####  Southern Hemisphere - Humidity (%) vs. Latitude Linear Regression"
   ]
  },
  {
   "cell_type": "code",
   "execution_count": 17,
   "metadata": {},
   "outputs": [
    {
     "data": {
      "image/png": "[encoded data removed]",
      "text/plain": [
       "<Figure size 432x288 with 1 Axes>"
      ]
     },
     "metadata": {
      "needs_background": "light"
     },
     "output_type": "display_data"
    }
   ],
   "source": [
    "x=southern_hem_df['Lat']\n",
    "y=southern_hem_df['Humidity']\n",
    "\n",
    "(slope, intercept, rvalue, pvalue, stderr) = linregress(x,y)\n",
    "regress_values = x * slope + intercept\n",
    "line_eq = \"y = \" + str(round(slope,2)) + \"x + \" + str(round(intercept,2))\n",
    "   \n",
    "plt.scatter(x,y)\n",
    "plt.plot(x,regress_values,\"r-\")\n",
    "plt.xlabel(\"Latitude\")\n",
    "plt.ylabel(\"Humidity\")\n",
    "plt.title(f\"Humidity vs Latitude \\n Southern Hemisphere  \\n April 25, 2021\")\n",
    "plt.annotate(line_eq,(-55,20),fontsize=15,color='red')\n",
    "plt.grid()\n",
    "plt.savefig('Humidity_vs_Lat_SouthernHem')\n",
    "plt.show()"
   ]
  },
  {
   "cell_type": "markdown",
   "metadata": {},
   "source": [
    "### Analysis\n",
    "- Latitude no affect on humidity for either the northern or southern hemisphere.  This is confirmed with the respective low r-values, northern (0.11) and southern (0.3).  (Analysis 4/25)"
   ]
  },
  {
   "cell_type": "markdown",
   "metadata": {},
   "source": [
    "####  Northern Hemisphere - Cloudiness (%) vs. Latitude Linear Regression"
   ]
  },
  {
   "cell_type": "code",
   "execution_count": 18,
   "metadata": {},
   "outputs": [
    {
     "data": {
      "image/png": "[encoded data removed]",
      "text/plain": [
       "<Figure size 432x288 with 1 Axes>"
      ]
     },
     "metadata": {
      "needs_background": "light"
     },
     "output_type": "display_data"
    },
    {
     "name": "stdout",
     "output_type": "stream",
     "text": [
      "Linear regression: y = 0.03x + 54.92\n"
     ]
    }
   ],
   "source": [
    "x=northern_hem_df['Lat']\n",
    "y=northern_hem_df['Cloudiness']\n",
    "\n",
    "(slope, intercept, rvalue, pvalue, stderr) = linregress(x,y)\n",
    "regress_values = x * slope + intercept\n",
    "line_eq = \"y = \" + str(round(slope,2)) + \"x + \" + str(round(intercept,2))\n",
    "\n",
    "plt.scatter(x,y)\n",
    "plt.plot(x,regress_values,\"r-\")\n",
    "plt.xlabel(\"Latitude\")\n",
    "plt.ylabel(\"Cloudiness\")\n",
    "plt.title(f\"Cloudiness vs Latitude \\n Northern Hemisphere  \\n April 25, 2021\")\n",
    "plt.annotate(line_eq,(0,60),fontsize=15,color='red')\n",
    "plt.grid()\n",
    "plt.savefig('Cloudiness_vs_Lat_NorthernHem')\n",
    "plt.show()\n",
    "\n",
    "print(f\"Linear regression: {line_eq}\")"
   ]
  },
  {
   "cell_type": "markdown",
   "metadata": {},
   "source": [
    "####  Southern Hemisphere - Cloudiness (%) vs. Latitude Linear Regression"
   ]
  },
  {
   "cell_type": "code",
   "execution_count": 19,
   "metadata": {},
   "outputs": [
    {
     "data": {
      "image/png": "[encoded data removed]",
      "text/plain": [
       "<Figure size 432x288 with 1 Axes>"
      ]
     },
     "metadata": {
      "needs_background": "light"
     },
     "output_type": "display_data"
    },
    {
     "name": "stdout",
     "output_type": "stream",
     "text": [
      "Linear regression: y = 0.08x + 56.29\n"
     ]
    }
   ],
   "source": [
    "x=southern_hem_df['Lat']\n",
    "y=southern_hem_df['Cloudiness']\n",
    "\n",
    "(slope, intercept, rvalue, pvalue, stderr) = linregress(x,y)\n",
    "regress_values = x * slope + intercept\n",
    "line_eq = \"y = \" + str(round(slope,2)) + \"x + \" + str(round(intercept,2))\n",
    "\n",
    "plt.scatter(x,y)\n",
    "plt.plot(x,regress_values,\"r-\")\n",
    "plt.xlabel(\"Latitude\")\n",
    "plt.ylabel(\"Cloudiness\")\n",
    "plt.title(f\"Cloudiness vs Latitude \\n Southern Hemisphere  \\n April 25, 2021\")\n",
    "plt.annotate(line_eq,(-50,60),fontsize=15,color='red')\n",
    "plt.grid()\n",
    "plt.savefig('Cloudiness_vs_Lat_SouthernHem')\n",
    "plt.show()\n",
    "print(f\"Linear regression: {line_eq}\")"
   ]
  },
  {
   "cell_type": "markdown",
   "metadata": {},
   "source": [
    "### Analysis\n",
    "Latitude no affect on cloudiness for either the northern or southern hemisphere. This is confirmed with the respective low r-values, northern (0.34) and southern (0.58).  The northern hemisphere's higher r-value may be due to seasonality as it is early spring.  (Analysis 4/25)"
   ]
  },
  {
   "cell_type": "markdown",
   "metadata": {},
   "source": [
    "####  Northern Hemisphere - Wind Speed (mph) vs. Latitude Linear Regression"
   ]
  },
  {
   "cell_type": "code",
   "execution_count": 20,
   "metadata": {},
   "outputs": [
    {
     "data": {
      "image/png": "[encoded data removed]",
      "text/plain": [
       "<Figure size 432x288 with 1 Axes>"
      ]
     },
     "metadata": {
      "needs_background": "light"
     },
     "output_type": "display_data"
    },
    {
     "name": "stdout",
     "output_type": "stream",
     "text": [
      "Linear regression: y = 0.04x + 6.42\n"
     ]
    }
   ],
   "source": [
    "x=northern_hem_df['Lat']\n",
    "y=northern_hem_df['Wind_speed']\n",
    "\n",
    "(slope, intercept, rvalue, pvalue, stderr) = linregress(x,y)\n",
    "regress_values = x * slope + intercept\n",
    "line_eq = \"y = \" + str(round(slope,2)) + \"x + \" + str(round(intercept,2))\n",
    "\n",
    "plt.scatter(x,y)\n",
    "plt.plot(x,regress_values,\"r-\")\n",
    "plt.xlabel(\"Latitude\")\n",
    "plt.ylabel(\"Wind Speed (mph)\")\n",
    "plt.title(f\"Wind Speed vs Latitude \\n Northern Hemisphere  \\n April 25, 2021\")\n",
    "plt.annotate(line_eq,(0,20),fontsize=15,color='red')\n",
    "plt.grid()\n",
    "plt.savefig('WindSpeed_vs_Lat_NorthernHem')\n",
    "plt.show()\n",
    "print(f\"Linear regression: {line_eq}\")"
   ]
  },
  {
   "cell_type": "markdown",
   "metadata": {},
   "source": [
    "####  Southern Hemisphere - Wind Speed (mph) vs. Latitude Linear Regression"
   ]
  },
  {
   "cell_type": "code",
   "execution_count": 21,
   "metadata": {},
   "outputs": [
    {
     "data": {
      "image/png": "[encoded data removed]",
      "text/plain": [
       "<Figure size 432x288 with 1 Axes>"
      ]
     },
     "metadata": {
      "needs_background": "light"
     },
     "output_type": "display_data"
    },
    {
     "name": "stdout",
     "output_type": "stream",
     "text": [
      "Linear regression: y = -0.06x + 6.08\n"
     ]
    }
   ],
   "source": [
    "x=southern_hem_df['Lat']\n",
    "y=southern_hem_df['Wind_speed']\n",
    "\n",
    "(slope, intercept, rvalue, pvalue, stderr) = linregress(x,y)\n",
    "regress_values = x * slope + intercept\n",
    "line_eq = \"y = \" + str(round(slope,2)) + \"x + \" + str(round(intercept,2))\n",
    "\n",
    "plt.scatter(x,y)\n",
    "plt.plot(x,regress_values,\"r-\")\n",
    "plt.xlabel(\"Latitude\")\n",
    "plt.ylabel(\"Wind Speed (mph)\")\n",
    "plt.title(f\"Wind Speed vs Latitude \\n Southern Hemisphere \\n April 25, 2021\")\n",
    "plt.annotate(line_eq,(-55,20),fontsize=15,color='red')\n",
    "plt.grid()\n",
    "plt.savefig('WindSpeed_vs_Lat_SouthernHem')\n",
    "plt.show()\n",
    "print(f\"Linear regression: {line_eq}\")"
   ]
  },
  {
   "cell_type": "markdown",
   "metadata": {},
   "source": [
    "### Analysis\n",
    "Wind speed is not related to latitude.   This is confirmed with the respective low r-values, northern (0.05) and southern (0.07). (Analysis 4/25)"
   ]
  },
  {
   "cell_type": "code",
   "execution_count": null,
   "metadata": {},
   "outputs": [],
   "source": []
  }
 ],
 "metadata": {
  "anaconda-cloud": {},
  "kernel_info": {
   "name": "python3"
  },
  "kernelspec": {
   "display_name": "Python 3",
   "language": "python",
   "name": "python3"
  },
  "language_info": {
   "codemirror_mode": {
    "name": "ipython",
    "version": 3
   },
   "file_extension": ".py",
   "mimetype": "text/x-python",
   "name": "python",
   "nbconvert_exporter": "python",
   "pygments_lexer": "ipython3",
   "version": "3.8.5"
  },
  "latex_envs": {
   "LaTeX_envs_menu_present": true,
   "autoclose": false,
   "autocomplete": true,
   "bibliofile": "biblio.bib",
   "cite_by": "apalike",
   "current_citInitial": 1,
   "eqLabelWithNumbers": true,
   "eqNumInitial": 1,
   "hotkeys": {
    "equation": "Ctrl-E",
    "itemize": "Ctrl-I"
   },
   "labels_anchors": false,
   "latex_user_defs": false,
   "report_style_numbering": false,
   "user_envs_cfg": false
  },
  "nteract": {
   "version": "0.12.3"
  }
 },
 "nbformat": 4,
 "nbformat_minor": 2
}
